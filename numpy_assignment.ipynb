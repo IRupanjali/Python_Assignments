{
 "cells": [
  {
   "cell_type": "code",
   "execution_count": 3,
   "id": "12b5876d-c5ec-42d8-bd94-31a7b9db1db3",
   "metadata": {},
   "outputs": [],
   "source": [
    "import numpy as np"
   ]
  },
  {
   "cell_type": "code",
   "execution_count": 5,
   "id": "36c1e2cd-65d0-496b-ab4a-33fbfa5f7e83",
   "metadata": {},
   "outputs": [
    {
     "data": {
      "text/plain": [
       "array([ 0,  1,  2,  3,  4,  5,  6,  7,  8,  9, 10, 11, 12, 13, 14, 15, 16,\n",
       "       17, 18, 19, 20])"
      ]
     },
     "execution_count": 5,
     "metadata": {},
     "output_type": "execute_result"
    }
   ],
   "source": [
    "# Create 1D array with integers from 1 to 20\n",
    "array_1 = np.arange(0,21)\n",
    "array_1"
   ]
  },
  {
   "cell_type": "code",
   "execution_count": 7,
   "id": "aa0b3229-d0a3-49af-9389-22bef9c7f7da",
   "metadata": {},
   "outputs": [
    {
     "name": "stdout",
     "output_type": "stream",
     "text": [
      "Array: [ 0  1  2  3  4  5  6  7  8  9 10 11 12 13 14 15 16 17 18 19 20]\n",
      "Sum: 210\n",
      "Mean: 10.0\n",
      "Median: 10.0\n",
      "Standard Deviation: 6.0553007081949835\n"
     ]
    }
   ],
   "source": [
    "sum_ = np.sum(array_1)\n",
    "mean_ = np.mean(array_1)\n",
    "median_ = np.median(array_1)\n",
    "std_dev = np.std(array_1)\n",
    "\n",
    "print(\"Array:\", array_1)\n",
    "print(\"Sum:\", sum_)\n",
    "print(\"Mean:\", mean_)\n",
    "print(\"Median:\", median_)\n",
    "print(\"Standard Deviation:\", std_dev)"
   ]
  },
  {
   "cell_type": "code",
   "execution_count": 9,
   "id": "cc504d63-1c17-40fb-9224-9a610654c92a",
   "metadata": {},
   "outputs": [
    {
     "name": "stdout",
     "output_type": "stream",
     "text": [
      "Indices of elements > 10: [11 12 13 14 15 16 17 18 19 20]\n"
     ]
    }
   ],
   "source": [
    "# b. Indices of elements greater than 10\n",
    "indices = np.where(array_1 > 10)\n",
    "print(\"Indices of elements > 10:\", indices[0])"
   ]
  },
  {
   "cell_type": "code",
   "execution_count": 11,
   "id": "632bcbef-9462-4f00-9faa-a9bafd637aee",
   "metadata": {},
   "outputs": [
    {
     "data": {
      "text/plain": [
       "array([[ 1,  2,  3,  4],\n",
       "       [ 5,  6,  7,  8],\n",
       "       [ 9, 10, 11, 12],\n",
       "       [13, 14, 15, 16]])"
      ]
     },
     "execution_count": 11,
     "metadata": {},
     "output_type": "execute_result"
    }
   ],
   "source": [
    "# Create 2D array of shape 4x4 with values 1 to 16\n",
    "array_2 = np.arange(1, 17).reshape(4, 4)\n",
    "array_2"
   ]
  },
  {
   "cell_type": "code",
   "execution_count": 13,
   "id": "9cfda822-0f5d-4de9-bd97-c83a79d9afef",
   "metadata": {},
   "outputs": [
    {
     "name": "stdout",
     "output_type": "stream",
     "text": [
      "Transpose:\n",
      " [[ 1  5  9 13]\n",
      " [ 2  6 10 14]\n",
      " [ 3  7 11 15]\n",
      " [ 4  8 12 16]]\n"
     ]
    }
   ],
   "source": [
    "# b. Transpose\n",
    "transpose = array_2.T\n",
    "print(\"Transpose:\\n\", transpose)"
   ]
  },
  {
   "cell_type": "code",
   "execution_count": 15,
   "id": "e106a7ee-009f-4aa1-a93a-b567e4cbd6ea",
   "metadata": {},
   "outputs": [
    {
     "name": "stdout",
     "output_type": "stream",
     "text": [
      "Row-wise Sums: [10 26 42 58]\n",
      "Column-wise Sums: [28 32 36 40]\n"
     ]
    }
   ],
   "source": [
    "# c. Row-wise and Column-wise sums\n",
    "row_sums = np.sum(array_2, axis=1)\n",
    "col_sums = np.sum(array_2, axis=0)\n",
    "\n",
    "print(\"Row-wise Sums:\", row_sums)\n",
    "print(\"Column-wise Sums:\", col_sums)"
   ]
  },
  {
   "cell_type": "code",
   "execution_count": 17,
   "id": "2636dba8-ab4f-490a-ae8a-f945951c6374",
   "metadata": {},
   "outputs": [
    {
     "name": "stdout",
     "output_type": "stream",
     "text": [
      "Array A:\n",
      " [[13 16  1]\n",
      " [ 4  4  8]\n",
      " [10 20 19]]\n",
      "Array B:\n",
      " [[ 5  7 13]\n",
      " [ 2  7  8]\n",
      " [15 18  6]]\n"
     ]
    }
   ],
   "source": [
    "# Create two 3x3 arrays with random integers between 1 and 20\n",
    "np.random.seed(0)  # for reproducibility\n",
    "array_a = np.random.randint(1, 21, size=(3, 3))\n",
    "array_b = np.random.randint(1, 21, size=(3, 3))\n",
    "\n",
    "print(\"Array A:\\n\", array_a)\n",
    "print(\"Array B:\\n\", array_b)"
   ]
  },
  {
   "cell_type": "code",
   "execution_count": 19,
   "id": "f538eedc-b31a-4a44-9018-201c07eb981a",
   "metadata": {},
   "outputs": [
    {
     "name": "stdout",
     "output_type": "stream",
     "text": [
      "Addition:\n",
      " [[18 23 14]\n",
      " [ 6 11 16]\n",
      " [25 38 25]]\n",
      "Subtraction:\n",
      " [[  8   9 -12]\n",
      " [  2  -3   0]\n",
      " [ -5   2  13]]\n",
      "Multiplication:\n",
      " [[ 65 112  13]\n",
      " [  8  28  64]\n",
      " [150 360 114]]\n"
     ]
    }
   ],
   "source": [
    "# a. Element-wise addition, subtraction, multiplication\n",
    "add = array_a + array_b\n",
    "sub = array_a - array_b\n",
    "mul = array_a * array_b\n",
    "\n",
    "print(\"Addition:\\n\", add)\n",
    "print(\"Subtraction:\\n\", sub)\n",
    "print(\"Multiplication:\\n\", mul)"
   ]
  },
  {
   "cell_type": "code",
   "execution_count": 21,
   "id": "b20c8a51-6bca-4029-af24-2deffb4eab8d",
   "metadata": {},
   "outputs": [
    {
     "name": "stdout",
     "output_type": "stream",
     "text": [
      "Dot Product:\n",
      " [[112 221 303]\n",
      " [148 200 132]\n",
      " [375 552 404]]\n"
     ]
    }
   ],
   "source": [
    "# b. Dot product\n",
    "dot_product = np.dot(array_a, array_b)\n",
    "print(\"Dot Product:\\n\", dot_product)"
   ]
  },
  {
   "cell_type": "code",
   "execution_count": 23,
   "id": "bc57ddc2-f74a-4f24-8075-e756bc7b8dcc",
   "metadata": {},
   "outputs": [
    {
     "name": "stdout",
     "output_type": "stream",
     "text": [
      "Reshaped Array (3x4):\n",
      " [[ 1  2  3  4]\n",
      " [ 5  6  7  8]\n",
      " [ 9 10 11 12]]\n",
      "Sliced (first 2 rows, last 2 columns):\n",
      " [[3 4]\n",
      " [7 8]]\n"
     ]
    }
   ],
   "source": [
    "# Create 1D array of size 12\n",
    "array_1d_12 = np.arange(1, 13)\n",
    "\n",
    "# Reshape into 3x4\n",
    "reshaped_array = array_1d_12.reshape(3, 4)\n",
    "print(\"Reshaped Array (3x4):\\n\", reshaped_array)\n",
    "\n",
    "# Slice: first two rows and last two columns\n",
    "sliced = reshaped_array[:2, -2:]\n",
    "print(\"Sliced (first 2 rows, last 2 columns):\\n\", sliced)"
   ]
  },
  {
   "cell_type": "code",
   "execution_count": null,
   "id": "eb1c6c32-71ca-4984-a2e4-86933d8f27ae",
   "metadata": {},
   "outputs": [],
   "source": []
  }
 ],
 "metadata": {
  "kernelspec": {
   "display_name": "Python 3 (ipykernel)",
   "language": "python",
   "name": "python3"
  },
  "language_info": {
   "codemirror_mode": {
    "name": "ipython",
    "version": 3
   },
   "file_extension": ".py",
   "mimetype": "text/x-python",
   "name": "python",
   "nbconvert_exporter": "python",
   "pygments_lexer": "ipython3",
   "version": "3.12.7"
  }
 },
 "nbformat": 4,
 "nbformat_minor": 5
}
