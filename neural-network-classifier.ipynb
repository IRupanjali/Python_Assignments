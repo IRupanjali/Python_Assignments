{
 "cells": [
  {
   "cell_type": "markdown",
   "id": "783a8108-dbed-4898-9fba-ec85255cac57",
   "metadata": {},
   "source": [
    "Problem Statement\n",
    "As part of Module 11, you are required to complete the project titled “Neural Network from Scratch”. This project is designed to test your understanding of fundamental neural network concepts by implementing a basic feedforward neural network using only NumPy, no external ML libraries like TensorFlow or PyTorch.\n",
    "You will work with synthetic image data representing the characters A, B, and C using binary pixel patterns. Each image is a 5×6 (30-pixel) grid encoded as a 1D array. Your goal is to classify the input image as A, B, or C using a two-layer neural network trained via backpropagation.\n",
    "\n",
    "What You Will Do\n",
    "In this project, you will define pixel-based binary patterns for the letters A, B, and C, and use them as training data for your neural network. You will implement a feedforward neural network with a hidden layer, using the sigmoid activation function. The model will be trained using custom backpropagation logic, optimizing the weights to minimize classification error. Throughout training, you’ll track loss and accuracy across epochs and visualize them using matplotlib.\n",
    "Once training is complete, you’ll test the model by predicting the correct class of the input letter and displaying its image using matplotlib.pyplot.imshow(). This project helps you gain hands-on experience with matrix operations, weight initialization, activation functions, loss computation, and gradient descent updates, which are essential building blocks of neural networks.\n"
   ]
  },
  {
   "cell_type": "code",
   "execution_count": 3,
   "id": "63cdf61c-23ba-498d-b278-625b20613da8",
   "metadata": {},
   "outputs": [],
   "source": [
    "# Creating data set\n",
    "#three-letter classifier for the characters A, B, and C.\n",
    "\n",
    "# A\n",
    "a =[0, 0, 1, 1, 0, 0,\n",
    "   0, 1, 0, 0, 1, 0,\n",
    "   1, 1, 1, 1, 1, 1,\n",
    "   1, 0, 0, 0, 0, 1,\n",
    "   1, 0, 0, 0, 0, 1]\n",
    "# B\n",
    "b =[0, 1, 1, 1, 1, 0,\n",
    "   0, 1, 0, 0, 1, 0,\n",
    "   0, 1, 1, 1, 1, 0,\n",
    "   0, 1, 0, 0, 1, 0,\n",
    "   0, 1, 1, 1, 1, 0]\n",
    "# C\n",
    "c =[0, 1, 1, 1, 1, 0,\n",
    "   0, 1, 0, 0, 0, 0,\n",
    "   0, 1, 0, 0, 0, 0,\n",
    "   0, 1, 0, 0, 0, 0,\n",
    "   0, 1, 1, 1, 1, 0]"
   ]
  },
  {
   "cell_type": "code",
   "execution_count": 5,
   "id": "14b8252f-9dea-4c47-a1d5-4cba47f804a8",
   "metadata": {},
   "outputs": [],
   "source": [
    "# Creating labels\n",
    "y =[[1, 0, 0],\n",
    "   [0, 1, 0],\n",
    "   [0, 0, 1]]"
   ]
  },
  {
   "cell_type": "code",
   "execution_count": 7,
   "id": "a7afddf5-6d05-46e1-a206-45cfd4c930a1",
   "metadata": {},
   "outputs": [
    {
     "data": {
      "image/png": "[encoded data removed]",
      "text/plain": [
       "<Figure size 640x480 with 1 Axes>"
      ]
     },
     "metadata": {},
     "output_type": "display_data"
    }
   ],
   "source": [
    "#Visualizing the Dataset\n",
    "import numpy as np\n",
    "import matplotlib.pyplot as plt\n",
    "\n",
    "# visualizing the data, plotting A.\n",
    "plt.imshow(np.array(a).reshape(5, 6))\n",
    "plt.show()"
   ]
  },
  {
   "cell_type": "code",
   "execution_count": 9,
   "id": "bb8434d5-0855-4336-929d-21f68cbc0844",
   "metadata": {},
   "outputs": [
    {
     "name": "stdout",
     "output_type": "stream",
     "text": [
      "[array([[0, 0, 1, 1, 0, 0, 0, 1, 0, 0, 1, 0, 1, 1, 1, 1, 1, 1, 1, 0, 0, 0,\n",
      "        0, 1, 1, 0, 0, 0, 0, 1]]), array([[0, 1, 1, 1, 1, 0, 0, 1, 0, 0, 1, 0, 0, 1, 1, 1, 1, 0, 0, 1, 0, 0,\n",
      "        1, 0, 0, 1, 1, 1, 1, 0]]), array([[0, 1, 1, 1, 1, 0, 0, 1, 0, 0, 0, 0, 0, 1, 0, 0, 0, 0, 0, 1, 0, 0,\n",
      "        0, 0, 0, 1, 1, 1, 1, 0]])] \n",
      "\n",
      " [[1 0 0]\n",
      " [0 1 0]\n",
      " [0 0 1]]\n"
     ]
    }
   ],
   "source": [
    "#As the data set is in the form of list we will convert it into numpy array. \n",
    "x =[np.array(a).reshape(1, 30), np.array(b).reshape(1, 30), \n",
    "                                np.array(c).reshape(1, 30)]\n",
    "y = np.array(y)\n",
    "# Printing data and labels\n",
    "print(x, \"\\n\\n\", y)"
   ]
  },
  {
   "cell_type": "code",
   "execution_count": null,
   "id": "11a59ec9-162a-4e76-9a29-0de949276347",
   "metadata": {},
   "outputs": [],
   "source": [
    "# Defining the Architecture of the Neural Network\n",
    "#Our neural network will have the following structure:\n",
    "#Input Layer: 1 layer with 30 nodes (representing the 5x6 grid).\n",
    "#Hidden Layer: 1 layer with 5 nodes.\n",
    "#Output Layer: 1 layer with 3 nodes (representing the letters A, B, and C).\n",
    "\n",
    "# Defining the Neural Network Functions\n",
    "#Activation Function: We'll use the sigmoid activation function.\n",
    "#Feedforward Process: Computes the output by passing the input through the layers.\n",
    "#Backpropagation: Updates weights to minimize the loss.\n",
    "#Loss Function: We’ll use Mean Squared Error (MSE) to compute the loss."
   ]
  },
  {
   "cell_type": "code",
   "execution_count": 11,
   "id": "d4d46c0c-1710-46f3-a2b2-a88a780e0108",
   "metadata": {},
   "outputs": [],
   "source": [
    "# activation function\n",
    "def sigmoid(x):\n",
    "\treturn(1/(1 + np.exp(-x)))\n",
    "\n",
    "# Creating the Feed forward neural network\n",
    "def f_forward(x, w1, w2):\n",
    "\t# hidden\n",
    "\tz1 = x.dot(w1)    # input from layer 1 \n",
    "\ta1 = sigmoid(z1)  # out put of layer 2 \n",
    "\tz2 = a1.dot(w2)   # input of out layer\n",
    "\ta2 = sigmoid(z2)  # output of out layer\n",
    "\treturn(a2)\n",
    "\n",
    "# initializing the weights randomly\n",
    "def generate_wt(x, y):\n",
    "\tli =[]\n",
    "\tfor i in range(x * y):\n",
    "\t\tli.append(np.random.randn())\n",
    "\treturn(np.array(li).reshape(x, y))\n",
    "\t\n",
    "# for loss we will be using mean square error(MSE)\n",
    "def loss(out, Y):\n",
    "\ts =(np.square(out-Y))\n",
    "\ts = np.sum(s)/len(y)\n",
    "\treturn(s)\n",
    "\n",
    "# Back propagation of error \n",
    "def back_prop(x, y, w1, w2, alpha):\n",
    "\t\n",
    "\t# hidden layer\n",
    "\tz1 = x.dot(w1)\n",
    "\ta1 = sigmoid(z1) \n",
    "\tz2 = a1.dot(w2)\n",
    "\ta2 = sigmoid(z2)\n",
    "\t\n",
    "\t# error in output layer\n",
    "\td2 =(a2-y)\n",
    "\td1 = np.multiply((w2.dot((d2.transpose()))).transpose(), \n",
    "\t\t\t\t\t\t\t\t(np.multiply(a1, 1-a1)))\n",
    "\t# Gradient for w1 and w2\n",
    "\tw1_adj = x.transpose().dot(d1)\n",
    "\tw2_adj = a1.transpose().dot(d2)\n",
    "\t\n",
    "\t# Updating parameters\n",
    "\tw1 = w1-(alpha*(w1_adj))\n",
    "\tw2 = w2-(alpha*(w2_adj))\n",
    "\t\n",
    "\treturn(w1, w2)"
   ]
  },
  {
   "cell_type": "code",
   "execution_count": 13,
   "id": "56f988b4-93a8-4a42-9a30-483d8bb4a7bd",
   "metadata": {},
   "outputs": [
    {
     "name": "stdout",
     "output_type": "stream",
     "text": [
      "[[ 1.22041476  0.13587134  0.64960955 -0.07996944 -2.68055964]\n",
      " [ 0.35552473 -0.86979204 -0.46380025 -0.35552084  0.51861814]\n",
      " [ 0.61802482  0.08508843  0.93457947 -1.18483085  1.08165384]\n",
      " [-0.64994591  0.0253566   1.11332188  0.27550989 -0.84373916]\n",
      " [ 0.74262421  0.26890633 -1.55553331  1.40311323  0.95468459]\n",
      " [ 0.65419271 -0.32167998 -1.69354337 -0.32798166  0.0995883 ]\n",
      " [-0.13611635  0.71121763  0.45941346  0.71387478 -0.95730394]\n",
      " [-1.41898144 -1.66136469  0.87128298  0.02804057 -0.85249148]\n",
      " [-0.38072184  0.17313073  1.36694273 -0.12682963  0.7854713 ]\n",
      " [ 0.26283378 -1.62608117  1.37020905  0.48155764  0.70904667]\n",
      " [-0.66613789 -0.54669559 -0.70598221  0.55590964 -1.0905834 ]\n",
      " [-0.01285325 -1.37396825 -0.24888699  0.4091603   0.01879425]\n",
      " [-1.56934856 -0.04861275 -0.12352305  1.21940738  2.45795094]\n",
      " [-1.21855863  0.79540088 -1.29671342 -1.49164816 -0.95750852]\n",
      " [ 0.09455974  1.30224918  1.0229135   0.29177886 -0.78865909]\n",
      " [ 0.21611716  0.00995307  1.60547032 -0.60433713  0.22411057]\n",
      " [-0.38385142  1.16917504 -0.81235457  0.07156314 -0.59310013]\n",
      " [ 0.48931944 -0.40117374  0.0587061  -0.82032922 -1.6523185 ]\n",
      " [-1.49173478 -1.1736284  -1.14170183 -0.81828181 -1.2887091 ]\n",
      " [ 1.11733284  0.89532023 -1.56872169  0.26231149 -0.34326302]\n",
      " [ 0.68411866  1.89377084  0.49927257  0.63969473 -0.63388849]\n",
      " [ 0.11182341  1.66171624 -0.80890675 -1.07976223  0.79210353]\n",
      " [-1.03146425  0.96719069 -1.4268768  -0.44599563 -1.60991563]\n",
      " [-0.57956636  0.79202254  1.05660248  0.28717181 -0.06227418]\n",
      " [-1.03224273  0.60817465 -0.13360882 -1.54758342 -1.1183692 ]\n",
      " [-1.12095358  0.31456849 -1.51579864 -0.17927529  0.2554362 ]\n",
      " [-0.58467116 -0.13521744  0.18066886  0.75875738 -2.15921761]\n",
      " [-0.52138557 -0.34482637 -0.29869441  1.80477171  0.22471499]\n",
      " [ 0.25356591  0.73224047  1.26596409  0.08230622 -2.02418563]\n",
      " [-0.71257402  0.37792533  1.76470241  0.92159095 -0.295157  ]] \n",
      "\n",
      " [[-2.61899205  0.10213657  0.50103824]\n",
      " [ 1.08061792  1.47233583  1.96492456]\n",
      " [-2.43682499  0.15015508 -0.50753226]\n",
      " [-0.68195606 -0.54739332 -0.93261937]\n",
      " [ 0.50680483  0.27241283  0.05500747]]\n"
     ]
    }
   ],
   "source": [
    "#We initialize the weights for both the hidden layer and the output layer randomly.\n",
    "w1 = generate_wt(30, 5)\n",
    "w2 = generate_wt(5, 3)\n",
    "\n",
    "print(w1, \"\\n\\n\", w2)"
   ]
  },
  {
   "cell_type": "code",
   "execution_count": 15,
   "id": "b123a8c0-8a90-49a7-ac1e-3993206f143b",
   "metadata": {},
   "outputs": [
    {
     "name": "stdout",
     "output_type": "stream",
     "text": [
      "epochs: 1 ======== acc: 61.002828933261746\n",
      "epochs: 2 ======== acc: 64.0636632489601\n",
      "epochs: 3 ======== acc: 66.9262709359117\n",
      "epochs: 4 ======== acc: 69.3781476408688\n",
      "epochs: 5 ======== acc: 71.30187438675766\n",
      "epochs: 6 ======== acc: 72.77201513101137\n",
      "epochs: 7 ======== acc: 73.90490438372652\n",
      "epochs: 8 ======== acc: 74.79324951490501\n",
      "epochs: 9 ======== acc: 75.51045416898017\n",
      "epochs: 10 ======== acc: 76.11518223546462\n",
      "epochs: 11 ======== acc: 76.6517079296244\n",
      "epochs: 12 ======== acc: 77.15125402109317\n",
      "epochs: 13 ======== acc: 77.63445392920497\n",
      "epochs: 14 ======== acc: 78.11372051200539\n",
      "epochs: 15 ======== acc: 78.59496927768808\n",
      "epochs: 16 ======== acc: 79.07880521852843\n",
      "epochs: 17 ======== acc: 79.56165117256207\n",
      "epochs: 18 ======== acc: 80.0373282108089\n",
      "epochs: 19 ======== acc: 80.49919162363189\n",
      "epochs: 20 ======== acc: 80.94225756241914\n",
      "epochs: 21 ======== acc: 81.36443147320851\n",
      "epochs: 22 ======== acc: 81.7664052938186\n",
      "epochs: 23 ======== acc: 82.1506155566527\n",
      "epochs: 24 ======== acc: 82.52004356859217\n",
      "epochs: 25 ======== acc: 82.8773928099073\n",
      "epochs: 26 ======== acc: 83.2247407521114\n",
      "epochs: 27 ======== acc: 83.5635153216629\n",
      "epochs: 28 ======== acc: 83.89461812780688\n",
      "epochs: 29 ======== acc: 84.21857964039962\n",
      "epochs: 30 ======== acc: 84.53569468748987\n",
      "epochs: 31 ======== acc: 84.84612405959973\n",
      "epochs: 32 ======== acc: 85.14996428935241\n",
      "epochs: 33 ======== acc: 85.44729252156071\n",
      "epochs: 34 ======== acc: 85.7381934576722\n",
      "epochs: 35 ======== acc: 86.02277397148266\n",
      "epochs: 36 ======== acc: 86.30116948577195\n",
      "epochs: 37 ======== acc: 86.57354498000404\n",
      "epochs: 38 ======== acc: 86.84009261428275\n",
      "epochs: 39 ======== acc: 87.10102734103874\n",
      "epochs: 40 ======== acc: 87.35658145551751\n",
      "epochs: 41 ======== acc: 87.60699874567676\n",
      "epochs: 42 ======== acc: 87.85252869712201\n",
      "epochs: 43 ======== acc: 88.09342106026821\n",
      "epochs: 44 ======== acc: 88.32992097696525\n",
      "epochs: 45 ======== acc: 88.56226478128914\n",
      "epochs: 46 ======== acc: 88.79067652718413\n",
      "epochs: 47 ======== acc: 89.0153652496371\n",
      "epochs: 48 ======== acc: 89.23652293286759\n",
      "epochs: 49 ======== acc: 89.45432313614604\n",
      "epochs: 50 ======== acc: 89.66892021325208\n",
      "epochs: 51 ======== acc: 89.88044905350107\n",
      "epochs: 52 ======== acc: 90.0890252691915\n",
      "epochs: 53 ======== acc: 90.29474575497719\n",
      "epochs: 54 ======== acc: 90.49768954797949\n",
      "epochs: 55 ======== acc: 90.69791892255046\n",
      "epochs: 56 ======== acc: 90.89548065978227\n",
      "epochs: 57 ======== acc: 91.09040743858692\n",
      "epochs: 58 ======== acc: 91.28271930203154\n",
      "epochs: 59 ======== acc: 91.47242515930955\n",
      "epochs: 60 ======== acc: 91.65952429005104\n",
      "epochs: 61 ======== acc: 91.84400782349643\n",
      "epochs: 62 ======== acc: 92.02586017030933\n",
      "epochs: 63 ======== acc: 92.20506038946493\n",
      "epochs: 64 ======== acc: 92.3815834767314\n",
      "epochs: 65 ======== acc: 92.55540156479893\n",
      "epochs: 66 ======== acc: 92.72648502815161\n",
      "epochs: 67 ======== acc: 92.89480348837247\n",
      "epochs: 68 ======== acc: 93.06032671777758\n",
      "epochs: 69 ======== acc: 93.22302544113525\n",
      "epochs: 70 ======== acc: 93.38287203678932\n",
      "epochs: 71 ======== acc: 93.53984113980329\n",
      "epochs: 72 ======== acc: 93.69391015080971\n",
      "epochs: 73 ======== acc: 93.84505965510898\n",
      "epochs: 74 ======== acc: 93.99327375723733\n",
      "epochs: 75 ======== acc: 94.13854033673272\n",
      "epochs: 76 ======== acc: 94.28085123118608\n",
      "epochs: 77 ======== acc: 94.42020235288922\n",
      "epochs: 78 ======== acc: 94.55659374549356\n",
      "epochs: 79 ======== acc: 94.69002958709015\n",
      "epochs: 80 ======== acc: 94.82051814602463\n",
      "epochs: 81 ======== acc: 94.94807169558331\n",
      "epochs: 82 ======== acc: 95.07270639344387\n",
      "epochs: 83 ======== acc: 95.1944421314856\n",
      "epochs: 84 ======== acc: 95.3133023612147\n",
      "epochs: 85 ======== acc: 95.42931389968935\n",
      "epochs: 86 ======== acc: 95.54250672043796\n",
      "epochs: 87 ======== acc: 95.65291373346118\n",
      "epochs: 88 ======== acc: 95.7605705580034\n",
      "epochs: 89 ======== acc: 95.86551529137748\n",
      "epochs: 90 ======== acc: 95.96778827673586\n",
      "epochs: 91 ======== acc: 96.06743187230475\n",
      "epochs: 92 ======== acc: 96.16449022424163\n",
      "epochs: 93 ======== acc: 96.25900904494054\n",
      "epochs: 94 ======== acc: 96.35103539829922\n",
      "epochs: 95 ======== acc: 96.44061749317578\n",
      "epochs: 96 ======== acc: 96.5278044860029\n",
      "epochs: 97 ======== acc: 96.61264629329311\n",
      "epochs: 98 ======== acc: 96.69519341456005\n",
      "epochs: 99 ======== acc: 96.77549676599644\n",
      "epochs: 100 ======== acc: 96.85360752508817\n"
     ]
    }
   ],
   "source": [
    "# Training the model using train function\n",
    "def train(x, Y, w1, w2, alpha = 0.01, epoch = 10):\n",
    "\tacc =[]\n",
    "\tlosss =[]\n",
    "\tfor j in range(epoch):\n",
    "\t\tl =[]\n",
    "\t\tfor i in range(len(x)):\n",
    "\t\t\tout = f_forward(x[i], w1, w2)\n",
    "\t\t\tl.append((loss(out, Y[i])))\n",
    "\t\t\tw1, w2 = back_prop(x[i], y[i], w1, w2, alpha)\n",
    "\t\tprint(\"epochs:\", j + 1, \"======== acc:\", (1-(sum(l)/len(x)))*100) \n",
    "\t\tacc.append((1-(sum(l)/len(x)))*100)\n",
    "\t\tlosss.append(sum(l)/len(x))\n",
    "\treturn(acc, losss, w1, w2)\n",
    "\n",
    "acc, losss, w1, w2 = train(x, y, w1, w2, 0.1, 100)"
   ]
  },
  {
   "cell_type": "code",
   "execution_count": 17,
   "id": "0fb20fac-65ef-456d-881e-2beb1b53f0eb",
   "metadata": {},
   "outputs": [
    {
     "data": {
      "image/png": "[encoded data removed]",
      "text/plain": [
       "<Figure size 640x480 with 1 Axes>"
      ]
     },
     "metadata": {},
     "output_type": "display_data"
    },
    {
     "data": {
      "image/png": "[encoded data removed]",
      "text/plain": [
       "<Figure size 640x480 with 1 Axes>"
      ]
     },
     "metadata": {},
     "output_type": "display_data"
    }
   ],
   "source": [
    "# Plotting accuracy and loss\n",
    "import matplotlib.pyplot as plt1\n",
    "\n",
    "# plotting accuracy\n",
    "plt1.plot(acc)\n",
    "plt1.ylabel('Accuracy')\n",
    "plt1.xlabel(\"Epochs:\")\n",
    "plt1.show()\n",
    "\n",
    "# plotting Loss\n",
    "plt1.plot(losss)\n",
    "plt1.ylabel('Loss')\n",
    "plt1.xlabel(\"Epochs:\")\n",
    "plt1.show()"
   ]
  },
  {
   "cell_type": "code",
   "execution_count": 19,
   "id": "d7304cb1-c2a1-4659-b33f-06d55bd85f7b",
   "metadata": {},
   "outputs": [
    {
     "name": "stdout",
     "output_type": "stream",
     "text": [
      "Image is of letter B.\n"
     ]
    },
    {
     "data": {
      "image/png": "[encoded data removed]",
      "text/plain": [
       "<Figure size 640x480 with 1 Axes>"
      ]
     },
     "metadata": {},
     "output_type": "display_data"
    }
   ],
   "source": [
    "# Making predictions\n",
    "def predict(x, w1, w2):\n",
    "\tOut = f_forward(x, w1, w2)\n",
    "\tmaxm = 0\n",
    "\tk = 0\n",
    "\tfor i in range(len(Out[0])):\n",
    "\t\tif(maxm<Out[0][i]):\n",
    "\t\t\tmaxm = Out[0][i]\n",
    "\t\t\tk = i\n",
    "\tif(k == 0):\n",
    "\t\tprint(\"Image is of letter A.\")\n",
    "\telif(k == 1):\n",
    "\t\tprint(\"Image is of letter B.\")\n",
    "\telse:\n",
    "\t\tprint(\"Image is of letter C.\")\n",
    "\tplt.imshow(x.reshape(5, 6))\n",
    "\tplt.show() \n",
    "# Example: Predicting for letter 'B'\t\n",
    "predict(x[1], w1, w2)"
   ]
  },
  {
   "cell_type": "code",
   "execution_count": null,
   "id": "2f6352f1-fc1e-4f9c-b7ba-24b9c2a2a5a2",
   "metadata": {},
   "outputs": [],
   "source": []
  }
 ],
 "metadata": {
  "kernelspec": {
   "display_name": "Python 3 (ipykernel)",
   "language": "python",
   "name": "python3"
  },
  "language_info": {
   "codemirror_mode": {
    "name": "ipython",
    "version": 3
   },
   "file_extension": ".py",
   "mimetype": "text/x-python",
   "name": "python",
   "nbconvert_exporter": "python",
   "pygments_lexer": "ipython3",
   "version": "3.12.7"
  }
 },
 "nbformat": 4,
 "nbformat_minor": 5
}
